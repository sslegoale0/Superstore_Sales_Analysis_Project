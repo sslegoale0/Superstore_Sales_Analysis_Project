{
 "cells": [
  {
   "cell_type": "markdown",
   "id": "32a352a8-5f09-4b47-8012-82c3c9e61dda",
   "metadata": {},
   "source": [
    "## Superstore Sales Data Cleaning."
   ]
  },
  {
   "cell_type": "markdown",
   "id": "2bdd44a6-da7d-45cb-8b43-75f5d155af6b",
   "metadata": {},
   "source": [
    "#### Importing python libraries for data analysis."
   ]
  },
  {
   "cell_type": "code",
   "execution_count": null,
   "id": "f5b6d685-656f-46fd-a4a1-82db4aade28d",
   "metadata": {},
   "outputs": [],
   "source": [
    "import numpy as np\n",
    "import pandas as pd\n",
    "import matplotlib.pyplot as plt\n",
    "import seaborn as sns"
   ]
  },
  {
   "cell_type": "markdown",
   "id": "341f4a32-ae30-4255-af7b-71e8dd8a358e",
   "metadata": {},
   "source": [
    "#### Importing superstore sales data into python."
   ]
  },
  {
   "cell_type": "code",
   "execution_count": null,
   "id": "ccef4771-30f6-497e-ab79-b34ed2a8e66f",
   "metadata": {},
   "outputs": [],
   "source": [
    "orders = pd.read_excel('Superstore Sales Orders Data.xlsx')\n",
    "people = pd.read_excel('Superstore Sales People Data.xlsx')\n",
    "returns = pd.read_excel('Superstore Sales Returns Data.xlsx')"
   ]
  },
  {
   "cell_type": "markdown",
   "id": "81c1edb3-4bbf-4fa9-b128-fd87e8951433",
   "metadata": {},
   "source": [
    "#### Reading Superstore Sales orders data."
   ]
  },
  {
   "cell_type": "code",
   "execution_count": null,
   "id": "45733247-6b31-4cc3-a7f7-b0e8e3b1c358",
   "metadata": {},
   "outputs": [],
   "source": [
    "orders"
   ]
  },
  {
   "cell_type": "markdown",
   "id": "2a1f176d-6900-438a-9d09-ae78298a8a2e",
   "metadata": {},
   "source": [
    "#### Getting information (shape & data types) on the orders data."
   ]
  },
  {
   "cell_type": "code",
   "execution_count": null,
   "id": "fac83705-8c62-4a4b-ab75-4a20c084a2d7",
   "metadata": {},
   "outputs": [],
   "source": [
    "orders.info()"
   ]
  },
  {
   "cell_type": "markdown",
   "id": "75b1418a-9926-4bb4-8ded-0375c4d339fe",
   "metadata": {},
   "source": [
    "#### Getting column names."
   ]
  },
  {
   "cell_type": "code",
   "execution_count": null,
   "id": "6b0a39b1-e570-493c-afcd-f7dba4295ebc",
   "metadata": {},
   "outputs": [],
   "source": [
    "orders.columns"
   ]
  },
  {
   "cell_type": "markdown",
   "id": "83ffd85f-bb24-43a9-83eb-7b581ce6c334",
   "metadata": {},
   "source": [
    "#### 1. Removal of duplicated rows."
   ]
  },
  {
   "cell_type": "code",
   "execution_count": null,
   "id": "26fdcd5d-24ac-49da-9d24-2a481cda868d",
   "metadata": {},
   "outputs": [],
   "source": [
    "orders.duplicated().sum()"
   ]
  },
  {
   "cell_type": "code",
   "execution_count": null,
   "id": "a86b00e0-061c-4b33-998a-0a0fec3b7189",
   "metadata": {},
   "outputs": [],
   "source": [
    "orders[orders.duplicated(subset = ['Order ID', 'Order Date', 'Ship Date', 'Ship Mode',\n",
    "       'Customer ID', 'Customer Name', 'Segment', 'Country/Region', 'City',\n",
    "       'State/Province', 'Postal Code', 'Region', 'Product ID', 'Category',\n",
    "       'Sub-Category', 'Product Name', 'Sales', 'Quantity', 'Discount',\n",
    "       'Profit'])]"
   ]
  },
  {
   "cell_type": "code",
   "execution_count": null,
   "id": "ddba6979-b315-4a57-999c-9221009fbc1d",
   "metadata": {},
   "outputs": [],
   "source": [
    "orders[orders['Order ID'].isin(['US-2019-150119', 'CA-2019-153623'])]"
   ]
  },
  {
   "cell_type": "code",
   "execution_count": null,
   "id": "cccdb58c-c956-4578-ad39-6f2c5a705d43",
   "metadata": {},
   "outputs": [],
   "source": [
    "orders = orders.drop_duplicates(subset = ['Order ID', 'Order Date', 'Ship Date', 'Ship Mode',\n",
    "       'Customer ID', 'Customer Name', 'Segment', 'Country/Region', 'City',\n",
    "       'State/Province', 'Postal Code', 'Region', 'Product ID', 'Category',\n",
    "       'Sub-Category', 'Product Name', 'Sales', 'Quantity', 'Discount',\n",
    "       'Profit'])"
   ]
  },
  {
   "cell_type": "markdown",
   "id": "c00cc18d-f663-4109-9e5d-167aa4c86ac0",
   "metadata": {},
   "source": [
    "#### 2. Data formatting & standardisation."
   ]
  },
  {
   "cell_type": "code",
   "execution_count": null,
   "id": "6ac316ae-5ac8-4597-a082-1c3613ab2c7e",
   "metadata": {},
   "outputs": [],
   "source": [
    "orders['Row ID'].nunique()"
   ]
  },
  {
   "cell_type": "code",
   "execution_count": null,
   "id": "e4f1f7bd-b78f-4d5c-9598-691dd649ebd5",
   "metadata": {},
   "outputs": [],
   "source": [
    "orders['Order ID'].sort_values().drop_duplicates()"
   ]
  },
  {
   "cell_type": "code",
   "execution_count": null,
   "id": "02c4f589-5969-432d-86fa-fea26c9e1166",
   "metadata": {},
   "outputs": [],
   "source": [
    "orders['Order Date'].sort_values().drop_duplicates()"
   ]
  },
  {
   "cell_type": "code",
   "execution_count": null,
   "id": "9a3d8176-0094-49c7-865d-c2c49f60eea4",
   "metadata": {},
   "outputs": [],
   "source": [
    "orders['Order Date'] = pd.to_datetime(orders[\"Order Date\"], format=\"%m/%d/%Y\")"
   ]
  },
  {
   "cell_type": "code",
   "execution_count": null,
   "id": "a50e8684-82bb-4711-85c2-0d55d5f9c52e",
   "metadata": {},
   "outputs": [],
   "source": [
    "orders['Ship Date'].sort_values().drop_duplicates()"
   ]
  },
  {
   "cell_type": "code",
   "execution_count": null,
   "id": "44cd0360-3221-4304-8300-547c38330b07",
   "metadata": {},
   "outputs": [],
   "source": [
    "orders['Ship Date'] = pd.to_datetime(orders[\"Ship Date\"], format=\"%m/%d/%Y\")"
   ]
  },
  {
   "cell_type": "code",
   "execution_count": null,
   "id": "f6e27b8f-24ed-48ad-ae89-35b0a3c1057b",
   "metadata": {},
   "outputs": [],
   "source": [
    "orders['Ship Mode'].sort_values().drop_duplicates()"
   ]
  },
  {
   "cell_type": "code",
   "execution_count": null,
   "id": "de70cca5-f963-48c0-b2af-30882f5763c5",
   "metadata": {},
   "outputs": [],
   "source": [
    "orders['State/Province'].sort_values().drop_duplicates()"
   ]
  },
  {
   "cell_type": "code",
   "execution_count": null,
   "id": "7c9926f8-09df-4f67-8172-75394a3d4aaf",
   "metadata": {},
   "outputs": [],
   "source": [
    "orders = orders.rename(columns = {\"State/Province\" : \"State\"})"
   ]
  },
  {
   "cell_type": "code",
   "execution_count": null,
   "id": "00304b74-e468-4682-a378-46600e062d14",
   "metadata": {},
   "outputs": [],
   "source": [
    "orders['Postal Code'].unique()"
   ]
  },
  {
   "cell_type": "code",
   "execution_count": null,
   "id": "e91e49f3-36d4-4553-adf8-177c2c9d63fb",
   "metadata": {},
   "outputs": [],
   "source": [
    "orders['Region'].sort_values().drop_duplicates()"
   ]
  },
  {
   "cell_type": "code",
   "execution_count": null,
   "id": "f22dec34-e3bc-446b-b937-f3bc3f70f9c3",
   "metadata": {},
   "outputs": [],
   "source": [
    "orders['Product ID'].sort_values().drop_duplicates()"
   ]
  },
  {
   "cell_type": "code",
   "execution_count": null,
   "id": "4f3965a8-dd6c-473f-b1b3-201e2d91a2ca",
   "metadata": {},
   "outputs": [],
   "source": [
    "orders['Category'].sort_values().drop_duplicates()"
   ]
  },
  {
   "cell_type": "code",
   "execution_count": null,
   "id": "2fa338e4-ffa3-4106-969d-1c7f78bee0ca",
   "metadata": {},
   "outputs": [],
   "source": [
    "def left(x):\n",
    "    return x.str[0:3]\n",
    "\n",
    "orders[['Product ID', 'Category']].apply(left)"
   ]
  },
  {
   "cell_type": "code",
   "execution_count": null,
   "id": "2fa2a2ab-8aa0-4542-846e-e25a10132d03",
   "metadata": {},
   "outputs": [],
   "source": [
    "orders['Sub-Category'].sort_values().drop_duplicates()"
   ]
  },
  {
   "cell_type": "code",
   "execution_count": null,
   "id": "0b325244-7128-4951-a74b-0ad63e24c174",
   "metadata": {},
   "outputs": [],
   "source": [
    "orders['Product Name'].sort_values().drop_duplicates()"
   ]
  },
  {
   "cell_type": "code",
   "execution_count": null,
   "id": "05db8e78-18bc-462c-879d-9559818f7b41",
   "metadata": {},
   "outputs": [],
   "source": [
    "orders['Sales'].sort_values().drop_duplicates()"
   ]
  },
  {
   "cell_type": "code",
   "execution_count": null,
   "id": "8479abcb-785f-4ac4-9332-bc245c4ddf30",
   "metadata": {},
   "outputs": [],
   "source": [
    "orders['Quantity'].sort_values().drop_duplicates()"
   ]
  },
  {
   "cell_type": "code",
   "execution_count": null,
   "id": "771d794f-d556-44ea-9924-2e039e27e302",
   "metadata": {},
   "outputs": [],
   "source": [
    "orders['Discount'].sort_values().drop_duplicates()"
   ]
  },
  {
   "cell_type": "markdown",
   "id": "9553f99e-7800-4a8f-b647-3b1819c92bbb",
   "metadata": {},
   "source": [
    "#### 3. Imputation of blank or null values."
   ]
  },
  {
   "cell_type": "code",
   "execution_count": null,
   "id": "89468bb8-2e7f-428c-917a-a6debc72d6d5",
   "metadata": {},
   "outputs": [],
   "source": [
    "orders.isna().sum()"
   ]
  },
  {
   "cell_type": "code",
   "execution_count": null,
   "id": "090f1edd-b3f4-42a9-99ee-38dc8ccce2c3",
   "metadata": {},
   "outputs": [],
   "source": [
    "#No blank or null values."
   ]
  },
  {
   "cell_type": "markdown",
   "id": "14284b47-bf48-4b22-b8a2-a39a616a8ed8",
   "metadata": {},
   "source": [
    "#### 4. Removal of columns irrevelant to the analysis."
   ]
  },
  {
   "cell_type": "code",
   "execution_count": null,
   "id": "d2c3e78b-a556-478d-86bf-4e6e4d277fa3",
   "metadata": {},
   "outputs": [],
   "source": [
    "orders = orders.drop('Row ID', axis=1)"
   ]
  },
  {
   "cell_type": "markdown",
   "id": "fdba7995-4713-44c5-99a4-53adc961d312",
   "metadata": {},
   "source": [
    "#### 5. Removal of rows irrevelant to the analysis."
   ]
  },
  {
   "cell_type": "code",
   "execution_count": null,
   "id": "be6a2e0f-df48-4ddc-b6b6-a52b7052f869",
   "metadata": {},
   "outputs": [],
   "source": [
    "orders = orders[orders['Country/Region'] == 'United States']"
   ]
  },
  {
   "cell_type": "markdown",
   "id": "adc2916f-77d9-4b81-9f77-eefc793a2657",
   "metadata": {},
   "source": [
    "## Superstore Sales Data Analysis."
   ]
  },
  {
   "cell_type": "markdown",
   "id": "f07cc7d3-b9de-43c0-be81-7a9e0a7bf25b",
   "metadata": {},
   "source": [
    "#### 1. Key Performance Indicators by Year."
   ]
  },
  {
   "cell_type": "code",
   "execution_count": null,
   "id": "bfc46257-09f9-4831-a97c-ee046c135571",
   "metadata": {},
   "outputs": [],
   "source": [
    "orders[\"Order Year\"] = orders[\"Order Date\"].dt.year"
   ]
  },
  {
   "cell_type": "code",
   "execution_count": null,
   "id": "c06366f2-a01c-4ec6-90cc-30298328d650",
   "metadata": {},
   "outputs": [],
   "source": [
    "yearly_kpis = orders.groupby(\"Order Year\").agg({\"Sales\": 'sum', \"Quantity\": 'sum', \"Profit\": 'sum', \"Order ID\": 'nunique', \"Customer ID\": 'nunique'}).sort_values(by = \"Order Year\", ascending=False).round(0)"
   ]
  },
  {
   "cell_type": "code",
   "execution_count": null,
   "id": "06e05925-80ff-4b1a-a2e6-5c9876df4514",
   "metadata": {},
   "outputs": [],
   "source": [
    "yearly_kpis = yearly_kpis.rename(columns = {\"Sales\":\"CY Sales\", \"Quantity\":\"CY Quantity\", \"Profit\":\"CY Profit\", \"Order ID\":\"CY Orders\", \"Customer ID\":\"CY Customers\"})"
   ]
  },
  {
   "cell_type": "code",
   "execution_count": null,
   "id": "cd7efe85-c429-4ad5-9372-4da9948e724b",
   "metadata": {},
   "outputs": [],
   "source": [
    "yearly_kpis[\"PY Sales\"] = yearly_kpis[\"CY Sales\"].shift(-1)\n",
    "yearly_kpis[\"PY Quantity\"] = yearly_kpis[\"CY Quantity\"].shift(-1)\n",
    "yearly_kpis[\"PY Profit\"] = yearly_kpis[\"CY Profit\"].shift(-1)\n",
    "yearly_kpis[\"PY Orders\"] = yearly_kpis[\"CY Orders\"].shift(-1)\n",
    "yearly_kpis[\"PY Customers\"] = yearly_kpis[\"CY Customers\"].shift(-1)"
   ]
  },
  {
   "cell_type": "code",
   "execution_count": null,
   "id": "f2c470b0-0c88-428c-af76-8dc2ab5f5221",
   "metadata": {},
   "outputs": [],
   "source": [
    "yearly_kpis[\"YoY Sales (%)\"] = ((yearly_kpis[\"CY Sales\"] - yearly_kpis[\"PY Sales\"])*100/yearly_kpis[\"PY Sales\"]).round(1)\n",
    "yearly_kpis[\"YoY Quantity (%)\"] = ((yearly_kpis[\"CY Quantity\"] - yearly_kpis[\"PY Quantity\"])*100/yearly_kpis[\"PY Quantity\"]).round(1)\n",
    "yearly_kpis[\"YoY Profit (%)\"] = ((yearly_kpis[\"CY Profit\"] - yearly_kpis[\"PY Profit\"])*100/yearly_kpis[\"PY Profit\"]).round(1)\n",
    "yearly_kpis[\"YoY Orders (%)\"] = ((yearly_kpis[\"CY Orders\"] - yearly_kpis[\"PY Orders\"])*100/yearly_kpis[\"PY Orders\"]).round(1)\n",
    "yearly_kpis[\"YoY Customers (%)\"] = ((yearly_kpis[\"CY Customers\"] - yearly_kpis[\"PY Customers\"])*100/yearly_kpis[\"PY Customers\"]).round(1)"
   ]
  },
  {
   "cell_type": "code",
   "execution_count": null,
   "id": "bc4d40e0-3a69-4454-af4e-c8bdfdb7fe2c",
   "metadata": {},
   "outputs": [],
   "source": [
    "yearly_kpis = yearly_kpis[[\"CY Sales\", \"PY Sales\", \"YoY Sales (%)\", \"CY Quantity\", \"PY Quantity\", \"YoY Quantity (%)\", \"CY Profit\", \"PY Profit\", \"YoY Profit (%)\", \"CY Orders\", \"PY Orders\", \"YoY Orders (%)\", \"CY Customers\", \"PY Customers\", \"YoY Customers (%)\", ]]"
   ]
  },
  {
   "cell_type": "code",
   "execution_count": null,
   "id": "c14deb7e-75fb-4529-998a-0203af5ac11b",
   "metadata": {},
   "outputs": [],
   "source": [
    "yearly_kpis.reset_index(inplace=True)"
   ]
  },
  {
   "cell_type": "code",
   "execution_count": null,
   "id": "28d6361e-ba7a-48f7-9f61-c02cd0577dee",
   "metadata": {},
   "outputs": [],
   "source": [
    "yearly_kpis"
   ]
  },
  {
   "cell_type": "markdown",
   "id": "ad98c2cb-fa9a-4931-bd71-3bef30e96a6c",
   "metadata": {},
   "source": [
    "#### 2. Key Performance Indicators by Year & Month"
   ]
  },
  {
   "cell_type": "code",
   "execution_count": null,
   "id": "8021993f-7347-4926-8b47-52669bc89458",
   "metadata": {},
   "outputs": [],
   "source": [
    "orders[\"Order Month\"] = orders[\"Order Date\"].dt.month\n",
    "orders[\"Order Month Name\"] = orders[\"Order Date\"].dt.month_name()"
   ]
  },
  {
   "cell_type": "code",
   "execution_count": null,
   "id": "a95e30e9-8410-47f5-8db0-a3e0a99faa70",
   "metadata": {},
   "outputs": [],
   "source": [
    "monthly_kpis = orders.groupby([\"Order Month\", \"Order Month Name\", \"Order Year\"]).agg({\"Sales\": 'sum', \"Quantity\": 'sum', \"Profit\": 'sum', \"Order ID\": 'nunique', \"Customer ID\": 'nunique'}).sort_values(by = [\"Order Month\", \"Order Month Name\", \"Order Year\"], ascending=[True, True, False]).round(0)"
   ]
  },
  {
   "cell_type": "code",
   "execution_count": null,
   "id": "d1a5cf85-b0b7-4366-8861-e341a5f1123f",
   "metadata": {},
   "outputs": [],
   "source": [
    "monthly_kpis = monthly_kpis.rename(columns = {\"Sales\":\"CY Sales\", \"Quantity\":\"CY Quantity\", \"Profit\":\"CY Profit\", \"Order ID\":\"CY Orders\", \"Customer ID\":\"CY Customers\"})"
   ]
  },
  {
   "cell_type": "code",
   "execution_count": null,
   "id": "c0b5dc91-a272-490e-8ca6-8e4bf8cd2e4d",
   "metadata": {},
   "outputs": [],
   "source": [
    "monthly_kpis[\"PY Sales\"] = monthly_kpis[\"CY Sales\"].shift(-1)\n",
    "monthly_kpis[\"PY Quantity\"] = monthly_kpis[\"CY Quantity\"].shift(-1)\n",
    "monthly_kpis[\"PY Profit\"] = monthly_kpis[\"CY Profit\"].shift(-1)\n",
    "monthly_kpis[\"PY Orders\"] = monthly_kpis[\"CY Orders\"].shift(-1)\n",
    "monthly_kpis[\"PY Customers\"] = monthly_kpis[\"CY Customers\"].shift(-1)"
   ]
  },
  {
   "cell_type": "code",
   "execution_count": null,
   "id": "7bd7c64c-3c39-4b89-b446-7af46e145b3f",
   "metadata": {},
   "outputs": [],
   "source": [
    "monthly_kpis[\"YoY Sales (%)\"] = ((monthly_kpis[\"CY Sales\"] - monthly_kpis[\"PY Sales\"])*100/monthly_kpis[\"PY Sales\"]).round(1)\n",
    "monthly_kpis[\"YoY Quantity (%)\"] = ((monthly_kpis[\"CY Quantity\"] - monthly_kpis[\"PY Quantity\"])*100/monthly_kpis[\"PY Quantity\"]).round(1)\n",
    "monthly_kpis[\"YoY Profit (%)\"] = ((monthly_kpis[\"CY Profit\"] - monthly_kpis[\"PY Profit\"])*100/monthly_kpis[\"PY Profit\"]).round(1)\n",
    "monthly_kpis[\"YoY Orders (%)\"] = ((monthly_kpis[\"CY Orders\"] - monthly_kpis[\"PY Orders\"])*100/monthly_kpis[\"PY Orders\"]).round(1)\n",
    "monthly_kpis[\"YoY Customers (%)\"] = ((monthly_kpis[\"CY Customers\"] - monthly_kpis[\"PY Customers\"])*100/monthly_kpis[\"PY Customers\"]).round(1)"
   ]
  },
  {
   "cell_type": "code",
   "execution_count": null,
   "id": "8a718b81-e2e9-40f5-8cd2-2fa443c4a02b",
   "metadata": {},
   "outputs": [],
   "source": [
    "monthly_kpis = monthly_kpis[[\"CY Sales\", \"PY Sales\", \"YoY Sales (%)\", \"CY Quantity\", \"PY Quantity\", \"YoY Quantity (%)\", \"CY Profit\", \"PY Profit\", \"YoY Profit (%)\", \"CY Orders\", \"PY Orders\", \"YoY Orders (%)\", \"CY Customers\", \"PY Customers\", \"YoY Customers (%)\", ]]"
   ]
  },
  {
   "cell_type": "code",
   "execution_count": null,
   "id": "b7378bde-5dc2-457d-838c-7f39f0670e64",
   "metadata": {},
   "outputs": [],
   "source": [
    "monthly_kpis.reset_index(inplace=True)"
   ]
  },
  {
   "cell_type": "code",
   "execution_count": null,
   "id": "1ec31d4b-de8b-4e5f-b50f-3d3db972cd79",
   "metadata": {
    "scrolled": true
   },
   "outputs": [],
   "source": [
    "monthly_kpis"
   ]
  },
  {
   "cell_type": "markdown",
   "id": "c7fe70b4-883f-4c8a-8588-50b4ef91504a",
   "metadata": {},
   "source": [
    "#### 3. Key Perfomance Indicators by Region and State"
   ]
  },
  {
   "cell_type": "code",
   "execution_count": null,
   "id": "a5bdef8e-0394-49f0-827e-3927c1a3940c",
   "metadata": {},
   "outputs": [],
   "source": [
    "kpis_region_state = orders.groupby([\"Region\", \"State\", \"Order Year\"]).agg({\"Sales\": 'sum', \"Quantity\": 'sum', \"Profit\": 'sum', \"Order ID\": 'nunique', \"Customer ID\": 'nunique'}).sort_values(by = [\"Region\", \"State\", \"Order Year\"], ascending=[True, True, False]).round(0)"
   ]
  },
  {
   "cell_type": "code",
   "execution_count": null,
   "id": "827ab597-bf74-44b3-8914-1a99d5efcdc2",
   "metadata": {},
   "outputs": [],
   "source": [
    "kpis_region_state = kpis_region_state.rename(columns = {\"Sales\":\"CY Sales\", \"Quantity\":\"CY Quantity\", \"Profit\":\"CY Profit\", \"Order ID\":\"CY Orders\", \"Customer ID\":\"CY Customers\"})"
   ]
  },
  {
   "cell_type": "code",
   "execution_count": null,
   "id": "e6362071-f9f3-4a6c-9173-d7db650e00c3",
   "metadata": {},
   "outputs": [],
   "source": [
    "kpis_region_state[\"PY Sales\"] = kpis_region_state[\"CY Sales\"].shift(-1)\n",
    "kpis_region_state[\"PY Quantity\"] = kpis_region_state[\"CY Quantity\"].shift(-1)\n",
    "kpis_region_state[\"PY Profit\"] = kpis_region_state[\"CY Profit\"].shift(-1)\n",
    "kpis_region_state[\"PY Orders\"] = kpis_region_state[\"CY Orders\"].shift(-1)\n",
    "kpis_region_state[\"PY Customers\"] = kpis_region_state[\"CY Customers\"].shift(-1)"
   ]
  },
  {
   "cell_type": "code",
   "execution_count": null,
   "id": "39b10bc2-e904-4735-bb59-3f4332019400",
   "metadata": {},
   "outputs": [],
   "source": [
    "kpis_region_state[\"YoY Sales (%)\"] = ((kpis_region_state[\"CY Sales\"] - kpis_region_state[\"PY Sales\"])*100/kpis_region_state[\"PY Sales\"]).round(1)\n",
    "kpis_region_state[\"YoY Quantity (%)\"] = ((kpis_region_state[\"CY Quantity\"] - kpis_region_state[\"PY Quantity\"])*100/kpis_region_state[\"PY Quantity\"]).round(1)\n",
    "kpis_region_state[\"YoY Profit (%)\"] = ((kpis_region_state[\"CY Profit\"] - kpis_region_state[\"PY Profit\"])*100/kpis_region_state[\"PY Profit\"]).round(1)\n",
    "kpis_region_state[\"YoY Orders (%)\"] = ((kpis_region_state[\"CY Orders\"] - kpis_region_state[\"PY Orders\"])*100/kpis_region_state[\"PY Orders\"]).round(1)\n",
    "kpis_region_state[\"YoY Customers (%)\"] = ((kpis_region_state[\"CY Customers\"] - kpis_region_state[\"PY Customers\"])*100/kpis_region_state[\"PY Customers\"]).round(1)"
   ]
  },
  {
   "cell_type": "code",
   "execution_count": null,
   "id": "8e165dfd-2011-4a8a-b7f3-71eb514b41e5",
   "metadata": {},
   "outputs": [],
   "source": [
    "kpis_region_state = kpis_region_state[[\"CY Sales\", \"PY Sales\", \"YoY Sales (%)\", \"CY Quantity\", \"PY Quantity\", \"YoY Quantity (%)\", \"CY Profit\", \"PY Profit\", \"YoY Profit (%)\", \"CY Orders\", \"PY Orders\", \"YoY Orders (%)\", \"CY Customers\", \"PY Customers\", \"YoY Customers (%)\", ]]"
   ]
  },
  {
   "cell_type": "code",
   "execution_count": null,
   "id": "6afb0761-f751-4d47-8158-0a214cec5f6e",
   "metadata": {},
   "outputs": [],
   "source": [
    "kpis_region_state.reset_index(inplace=True)"
   ]
  },
  {
   "cell_type": "code",
   "execution_count": null,
   "id": "1f9eecac-0cba-4994-8785-964c83d611ee",
   "metadata": {
    "scrolled": true
   },
   "outputs": [],
   "source": [
    "kpis_region_state"
   ]
  },
  {
   "cell_type": "markdown",
   "id": "c487315f-8409-4450-aa39-705d46480b90",
   "metadata": {},
   "source": [
    "#### 4. Key Perfomance Indicators by Category and Sub-category"
   ]
  },
  {
   "cell_type": "code",
   "execution_count": null,
   "id": "2da11db4-cb95-403f-a788-087aceecf8bd",
   "metadata": {},
   "outputs": [],
   "source": [
    "kpis_category_subcategory = orders.groupby([\"Category\", \"Sub-Category\", \"Order Year\"]).agg({\"Sales\": 'sum', \"Quantity\": 'sum', \"Profit\": 'sum', \"Order ID\": 'nunique', \"Customer ID\": 'nunique'}).sort_values(by = [\"Category\", \"Sub-Category\", \"Order Year\"], ascending=[True, True, False]).round(0)"
   ]
  },
  {
   "cell_type": "code",
   "execution_count": null,
   "id": "9049a4e9-2cb8-4d15-ae89-ae47a54f0c0a",
   "metadata": {},
   "outputs": [],
   "source": [
    "kpis_category_subcategory = kpis_category_subcategory.rename(columns = {\"Sales\":\"CY Sales\", \"Quantity\":\"CY Quantity\", \"Profit\":\"CY Profit\", \"Order ID\":\"CY Orders\", \"Customer ID\":\"CY Customers\"})"
   ]
  },
  {
   "cell_type": "code",
   "execution_count": null,
   "id": "91085c39-18c6-4985-89a6-83bc37fa02f1",
   "metadata": {},
   "outputs": [],
   "source": [
    "kpis_category_subcategory[\"PY Sales\"] = kpis_category_subcategory[\"CY Sales\"].shift(-1)\n",
    "kpis_category_subcategory[\"PY Quantity\"] = kpis_category_subcategory[\"CY Quantity\"].shift(-1)\n",
    "kpis_category_subcategory[\"PY Profit\"] = kpis_category_subcategory[\"CY Profit\"].shift(-1)\n",
    "kpis_category_subcategory[\"PY Orders\"] = kpis_category_subcategory[\"CY Orders\"].shift(-1)\n",
    "kpis_category_subcategory[\"PY Customers\"] = kpis_category_subcategory[\"CY Customers\"].shift(-1)"
   ]
  },
  {
   "cell_type": "code",
   "execution_count": null,
   "id": "4134c1f0-3ef3-4091-b2a5-22575586698c",
   "metadata": {},
   "outputs": [],
   "source": [
    "kpis_category_subcategory[\"YoY Sales (%)\"] = ((kpis_category_subcategory[\"CY Sales\"] - kpis_category_subcategory[\"PY Sales\"])*100/kpis_category_subcategory[\"PY Sales\"]).round(1)\n",
    "kpis_category_subcategory[\"YoY Quantity (%)\"] = ((kpis_category_subcategory[\"CY Quantity\"] - kpis_category_subcategory[\"PY Quantity\"])*100/kpis_category_subcategory[\"PY Quantity\"]).round(1)\n",
    "kpis_category_subcategory[\"YoY Profit (%)\"] = ((kpis_category_subcategory[\"CY Profit\"] - kpis_category_subcategory[\"PY Profit\"])*100/kpis_category_subcategory[\"PY Profit\"]).round(1)\n",
    "kpis_category_subcategory[\"YoY Orders (%)\"] = ((kpis_category_subcategory[\"CY Orders\"] - kpis_category_subcategory[\"PY Orders\"])*100/kpis_category_subcategory[\"PY Orders\"]).round(1)\n",
    "kpis_category_subcategory[\"YoY Customers (%)\"] = ((kpis_category_subcategory[\"CY Customers\"] - kpis_category_subcategory[\"PY Customers\"])*100/kpis_category_subcategory[\"PY Customers\"]).round(1)"
   ]
  },
  {
   "cell_type": "code",
   "execution_count": null,
   "id": "10510bc4-c42a-4c2c-8e07-d60dd1e491e6",
   "metadata": {},
   "outputs": [],
   "source": [
    "kpis_category_subcategory = kpis_category_subcategory[[\"CY Sales\", \"PY Sales\", \"YoY Sales (%)\", \"CY Quantity\", \"PY Quantity\", \"YoY Quantity (%)\", \"CY Profit\", \"PY Profit\", \"YoY Profit (%)\", \"CY Orders\", \"PY Orders\", \"YoY Orders (%)\", \"CY Customers\", \"PY Customers\", \"YoY Customers (%)\", ]]"
   ]
  },
  {
   "cell_type": "code",
   "execution_count": null,
   "id": "179f2bfe-67ed-4bae-a005-ca225001ec1c",
   "metadata": {},
   "outputs": [],
   "source": [
    "kpis_category_subcategory.reset_index(inplace=True)"
   ]
  },
  {
   "cell_type": "code",
   "execution_count": null,
   "id": "b521654a-80fd-4c0b-b4b8-780e9dfc9a75",
   "metadata": {},
   "outputs": [],
   "source": [
    "kpis_category_subcategory"
   ]
  },
  {
   "cell_type": "markdown",
   "id": "2e14f9bf-bf7a-43ca-8daf-099fcf8a27f2",
   "metadata": {},
   "source": [
    "#### 5. Key Perfomance Indicators by Segment"
   ]
  },
  {
   "cell_type": "code",
   "execution_count": null,
   "id": "bb1055c8-a2b5-4bff-b905-4568e3ac64df",
   "metadata": {},
   "outputs": [],
   "source": [
    "kpis_segment = orders.groupby([\"Segment\", \"Order Year\"]).agg({\"Sales\": 'sum', \"Quantity\": 'sum', \"Profit\": 'sum', \"Order ID\": 'nunique', \"Customer ID\": 'nunique'}).sort_values(by = [\"Segment\", \"Order Year\"], ascending=[True, False]).round(0)"
   ]
  },
  {
   "cell_type": "code",
   "execution_count": null,
   "id": "71a2759f-7718-451a-940e-b512c75fa217",
   "metadata": {},
   "outputs": [],
   "source": [
    "kpis_segment = kpis_segment.rename(columns = {\"Sales\":\"CY Sales\", \"Quantity\":\"CY Quantity\", \"Profit\":\"CY Profit\", \"Order ID\":\"CY Orders\", \"Customer ID\":\"CY Customers\"})"
   ]
  },
  {
   "cell_type": "code",
   "execution_count": null,
   "id": "c19dc184-a942-47b2-9d4f-5b01b82e09e5",
   "metadata": {},
   "outputs": [],
   "source": [
    "kpis_segment[\"PY Sales\"] = kpis_segment[\"CY Sales\"].shift(-1)\n",
    "kpis_segment[\"PY Quantity\"] = kpis_segment[\"CY Quantity\"].shift(-1)\n",
    "kpis_segment[\"PY Profit\"] = kpis_segment[\"CY Profit\"].shift(-1)\n",
    "kpis_segment[\"PY Orders\"] = kpis_segment[\"CY Orders\"].shift(-1)\n",
    "kpis_segment[\"PY Customers\"] = kpis_segment[\"CY Customers\"].shift(-1)"
   ]
  },
  {
   "cell_type": "code",
   "execution_count": null,
   "id": "60c167c2-9707-49c1-9a41-1a0714a4d537",
   "metadata": {},
   "outputs": [],
   "source": [
    "kpis_segment[\"YoY Sales (%)\"] = ((kpis_segment[\"CY Sales\"] - kpis_segment[\"PY Sales\"])*100/kpis_segment[\"PY Sales\"]).round(1)\n",
    "kpis_segment[\"YoY Quantity (%)\"] = ((kpis_segment[\"CY Quantity\"] - kpis_segment[\"PY Quantity\"])*100/kpis_segment[\"PY Quantity\"]).round(1)\n",
    "kpis_segment[\"YoY Profit (%)\"] = ((kpis_segment[\"CY Profit\"] - kpis_segment[\"PY Profit\"])*100/kpis_segment[\"PY Profit\"]).round(1)\n",
    "kpis_segment[\"YoY Orders (%)\"] = ((kpis_segment[\"CY Orders\"] - kpis_segment[\"PY Orders\"])*100/kpis_segment[\"PY Orders\"]).round(1)\n",
    "kpis_segment[\"YoY Customers (%)\"] = ((kpis_segment[\"CY Customers\"] - kpis_segment[\"PY Customers\"])*100/kpis_segment[\"PY Customers\"]).round(1)"
   ]
  },
  {
   "cell_type": "code",
   "execution_count": null,
   "id": "b313b6a4-8b8b-48c3-b72c-30de5b9f6e5a",
   "metadata": {},
   "outputs": [],
   "source": [
    "kpis_segment = kpis_segment[[\"CY Sales\", \"PY Sales\", \"YoY Sales (%)\", \"CY Quantity\", \"PY Quantity\", \"YoY Quantity (%)\", \"CY Profit\", \"PY Profit\", \"YoY Profit (%)\", \"CY Orders\", \"PY Orders\", \"YoY Orders (%)\", \"CY Customers\", \"PY Customers\", \"YoY Customers (%)\", ]]"
   ]
  },
  {
   "cell_type": "code",
   "execution_count": null,
   "id": "40f65fa9-edd3-406b-919f-60f31bda82cd",
   "metadata": {},
   "outputs": [],
   "source": [
    "kpis_segment.reset_index(inplace=True)"
   ]
  },
  {
   "cell_type": "code",
   "execution_count": null,
   "id": "1c7795d0-694d-492c-be7e-156def09d6e0",
   "metadata": {
    "scrolled": true
   },
   "outputs": [],
   "source": [
    "kpis_segment"
   ]
  },
  {
   "cell_type": "markdown",
   "id": "a24cd8e1-ed11-4329-8b0f-37e3356bfd2a",
   "metadata": {},
   "source": [
    "#### 6. Key Perfomance Indicators by Ship Mode"
   ]
  },
  {
   "cell_type": "code",
   "execution_count": null,
   "id": "ff5943d5-057c-4cbd-b88e-cbe3bbe19fc0",
   "metadata": {},
   "outputs": [],
   "source": [
    "kpis_shipmode = orders.groupby([\"Ship Mode\", \"Order Year\"]).agg({\"Sales\": 'sum', \"Quantity\": 'sum', \"Profit\": 'sum', \"Order ID\": 'nunique', \"Customer ID\": 'nunique'}).sort_values(by = [\"Ship Mode\", \"Order Year\"], ascending=[True, False]).round(0)"
   ]
  },
  {
   "cell_type": "code",
   "execution_count": null,
   "id": "06bfe7e2-f897-4c06-8078-e43c8b8c1f29",
   "metadata": {},
   "outputs": [],
   "source": [
    "kpis_shipmode = kpis_shipmode.rename(columns = {\"Sales\":\"CY Sales\", \"Quantity\":\"CY Quantity\", \"Profit\":\"CY Profit\", \"Order ID\":\"CY Orders\", \"Customer ID\":\"CY Customers\"})"
   ]
  },
  {
   "cell_type": "code",
   "execution_count": null,
   "id": "f2af1572-95d1-473a-8142-df35c60728af",
   "metadata": {},
   "outputs": [],
   "source": [
    "kpis_shipmode[\"PY Sales\"] = kpis_shipmode[\"CY Sales\"].shift(-1)\n",
    "kpis_shipmode[\"PY Quantity\"] = kpis_shipmode[\"CY Quantity\"].shift(-1)\n",
    "kpis_shipmode[\"PY Profit\"] = kpis_shipmode[\"CY Profit\"].shift(-1)\n",
    "kpis_shipmode[\"PY Orders\"] = kpis_shipmode[\"CY Orders\"].shift(-1)\n",
    "kpis_shipmode[\"PY Customers\"] = kpis_shipmode[\"CY Customers\"].shift(-1)"
   ]
  },
  {
   "cell_type": "code",
   "execution_count": null,
   "id": "bf1f338b-3c29-4948-8ffd-fc0d0f332fa2",
   "metadata": {},
   "outputs": [],
   "source": [
    "kpis_shipmode[\"YoY Sales (%)\"] = ((kpis_shipmode[\"CY Sales\"] - kpis_shipmode[\"PY Sales\"])*100/kpis_shipmode[\"PY Sales\"]).round(1)\n",
    "kpis_shipmode[\"YoY Quantity (%)\"] = ((kpis_shipmode[\"CY Quantity\"] - kpis_shipmode[\"PY Quantity\"])*100/kpis_shipmode[\"PY Quantity\"]).round(1)\n",
    "kpis_shipmode[\"YoY Profit (%)\"] = ((kpis_shipmode[\"CY Profit\"] - kpis_shipmode[\"PY Profit\"])*100/kpis_shipmode[\"PY Profit\"]).round(1)\n",
    "kpis_shipmode[\"YoY Orders (%)\"] = ((kpis_shipmode[\"CY Orders\"] - kpis_shipmode[\"PY Orders\"])*100/kpis_shipmode[\"PY Orders\"]).round(1)\n",
    "kpis_shipmode[\"YoY Customers (%)\"] = ((kpis_shipmode[\"CY Customers\"] - kpis_shipmode[\"PY Customers\"])*100/kpis_shipmode[\"PY Customers\"]).round(1)"
   ]
  },
  {
   "cell_type": "code",
   "execution_count": null,
   "id": "264387d8-4d50-4359-9689-50b860bfec43",
   "metadata": {},
   "outputs": [],
   "source": [
    "kpis_shipmode = kpis_shipmode[[\"CY Sales\", \"PY Sales\", \"YoY Sales (%)\", \"CY Quantity\", \"PY Quantity\", \"YoY Quantity (%)\", \"CY Profit\", \"PY Profit\", \"YoY Profit (%)\", \"CY Orders\", \"PY Orders\", \"YoY Orders (%)\", \"CY Customers\", \"PY Customers\", \"YoY Customers (%)\", ]]"
   ]
  },
  {
   "cell_type": "code",
   "execution_count": null,
   "id": "0fdcbebc-c8ca-42b1-a83e-14ad7326553f",
   "metadata": {},
   "outputs": [],
   "source": [
    "kpis_shipmode.reset_index(inplace=True)"
   ]
  },
  {
   "cell_type": "code",
   "execution_count": null,
   "id": "79ce4f36-0731-4abc-84cb-ce20c2d2bae0",
   "metadata": {
    "scrolled": true
   },
   "outputs": [],
   "source": [
    "kpis_shipmode"
   ]
  },
  {
   "cell_type": "code",
   "execution_count": null,
   "id": "e4c75838-e95c-49fb-a9d5-e38385c3d0a5",
   "metadata": {},
   "outputs": [],
   "source": []
  }
 ],
 "metadata": {
  "kernelspec": {
   "display_name": "Python 3 (ipykernel)",
   "language": "python",
   "name": "python3"
  },
  "language_info": {
   "codemirror_mode": {
    "name": "ipython",
    "version": 3
   },
   "file_extension": ".py",
   "mimetype": "text/x-python",
   "name": "python",
   "nbconvert_exporter": "python",
   "pygments_lexer": "ipython3",
   "version": "3.12.4"
  }
 },
 "nbformat": 4,
 "nbformat_minor": 5
}

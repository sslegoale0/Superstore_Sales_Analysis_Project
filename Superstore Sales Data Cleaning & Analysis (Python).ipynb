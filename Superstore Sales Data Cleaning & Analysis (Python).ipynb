{
 "cells": [
  {
   "cell_type": "markdown",
   "id": "32a352a8-5f09-4b47-8012-82c3c9e61dda",
   "metadata": {},
   "source": [
    "## Superstore Sales Data Cleaning."
   ]
  },
  {
   "cell_type": "markdown",
   "id": "2bdd44a6-da7d-45cb-8b43-75f5d155af6b",
   "metadata": {},
   "source": [
    "#### Importing python libraries for data analysis."
   ]
  },
  {
   "cell_type": "code",
   "execution_count": null,
   "id": "f5b6d685-656f-46fd-a4a1-82db4aade28d",
   "metadata": {},
   "outputs": [],
   "source": [
    "import numpy as np\n",
    "import pandas as pd\n",
    "import matplotlib.pyplot as plt\n",
    "import seaborn as sns"
   ]
  },
  {
   "cell_type": "code",
   "execution_count": null,
   "id": "d7b21578-55cf-43f3-81cd-ef2081d82073",
   "metadata": {},
   "outputs": [],
   "source": [
    "pd.set_option('display.max_rows', 1000)"
   ]
  },
  {
   "cell_type": "markdown",
   "id": "341f4a32-ae30-4255-af7b-71e8dd8a358e",
   "metadata": {},
   "source": [
    "#### Importing superstore sales data into python."
   ]
  },
  {
   "cell_type": "code",
   "execution_count": null,
   "id": "ccef4771-30f6-497e-ab79-b34ed2a8e66f",
   "metadata": {},
   "outputs": [],
   "source": [
    "orders = pd.read_excel('Superstore Sales Orders Data.xlsx')\n",
    "people = pd.read_excel('Superstore Sales People Data.xlsx')\n",
    "returns = pd.read_excel('Superstore Sales Returns Data.xlsx')"
   ]
  },
  {
   "cell_type": "markdown",
   "id": "81c1edb3-4bbf-4fa9-b128-fd87e8951433",
   "metadata": {},
   "source": [
    "#### Reading Superstore Sales orders data."
   ]
  },
  {
   "cell_type": "code",
   "execution_count": null,
   "id": "45733247-6b31-4cc3-a7f7-b0e8e3b1c358",
   "metadata": {},
   "outputs": [],
   "source": [
    "orders"
   ]
  },
  {
   "cell_type": "markdown",
   "id": "2a1f176d-6900-438a-9d09-ae78298a8a2e",
   "metadata": {},
   "source": [
    "#### Getting information (shape & data types) on the orders data."
   ]
  },
  {
   "cell_type": "code",
   "execution_count": null,
   "id": "fac83705-8c62-4a4b-ab75-4a20c084a2d7",
   "metadata": {},
   "outputs": [],
   "source": [
    "orders.info()"
   ]
  },
  {
   "cell_type": "markdown",
   "id": "75b1418a-9926-4bb4-8ded-0375c4d339fe",
   "metadata": {},
   "source": [
    "#### Getting column names."
   ]
  },
  {
   "cell_type": "code",
   "execution_count": null,
   "id": "6b0a39b1-e570-493c-afcd-f7dba4295ebc",
   "metadata": {},
   "outputs": [],
   "source": [
    "orders.columns"
   ]
  },
  {
   "cell_type": "markdown",
   "id": "83ffd85f-bb24-43a9-83eb-7b581ce6c334",
   "metadata": {},
   "source": [
    "### 1. Removal of duplicated rows."
   ]
  },
  {
   "cell_type": "markdown",
   "id": "8f02c4dc-40f8-4021-928e-29e3765c6bea",
   "metadata": {},
   "source": [
    "#### Identifying duplicated rows."
   ]
  },
  {
   "cell_type": "code",
   "execution_count": null,
   "id": "26fdcd5d-24ac-49da-9d24-2a481cda868d",
   "metadata": {},
   "outputs": [],
   "source": [
    "orders.duplicated().sum()"
   ]
  },
  {
   "cell_type": "code",
   "execution_count": null,
   "id": "98f785e7-bcf4-4be4-91fa-f573964c15bc",
   "metadata": {},
   "outputs": [],
   "source": [
    "orders.nunique()"
   ]
  },
  {
   "cell_type": "code",
   "execution_count": null,
   "id": "0b1864d7-780c-4b25-a594-8163fa2f0893",
   "metadata": {},
   "outputs": [],
   "source": [
    "# Row ID only had unique values, so I removed from the columns."
   ]
  },
  {
   "cell_type": "code",
   "execution_count": null,
   "id": "a86b00e0-061c-4b33-998a-0a0fec3b7189",
   "metadata": {},
   "outputs": [],
   "source": [
    "orders[orders.duplicated(subset = ['Order ID', 'Order Date', 'Ship Date', 'Ship Mode',\n",
    "       'Customer ID', 'Customer Name', 'Segment', 'Country/Region', 'City',\n",
    "       'State/Province', 'Postal Code', 'Region', 'Product ID', 'Category',\n",
    "       'Sub-Category', 'Product Name', 'Sales', 'Quantity', 'Discount',\n",
    "       'Profit'])]"
   ]
  },
  {
   "cell_type": "code",
   "execution_count": null,
   "id": "ddba6979-b315-4a57-999c-9221009fbc1d",
   "metadata": {},
   "outputs": [],
   "source": [
    "orders[orders['Order ID'].isin(['US-2019-150119', 'CA-2019-153623'])]"
   ]
  },
  {
   "cell_type": "code",
   "execution_count": null,
   "id": "cccdb58c-c956-4578-ad39-6f2c5a705d43",
   "metadata": {},
   "outputs": [],
   "source": [
    "orders = orders.drop_duplicates(subset = ['Order ID', 'Order Date', 'Ship Date', 'Ship Mode',\n",
    "       'Customer ID', 'Customer Name', 'Segment', 'Country/Region', 'City',\n",
    "       'State/Province', 'Postal Code', 'Region', 'Product ID', 'Category',\n",
    "       'Sub-Category', 'Product Name', 'Sales', 'Quantity', 'Discount',\n",
    "       'Profit'])"
   ]
  },
  {
   "cell_type": "markdown",
   "id": "c00cc18d-f663-4109-9e5d-167aa4c86ac0",
   "metadata": {},
   "source": [
    "### 2. Data formatting & standardisation."
   ]
  },
  {
   "cell_type": "code",
   "execution_count": null,
   "id": "6ac316ae-5ac8-4597-a082-1c3613ab2c7e",
   "metadata": {},
   "outputs": [],
   "source": [
    "orders['Row ID'].nunique()"
   ]
  },
  {
   "cell_type": "code",
   "execution_count": null,
   "id": "e4f1f7bd-b78f-4d5c-9598-691dd649ebd5",
   "metadata": {},
   "outputs": [],
   "source": [
    "orders['Order ID'].sort_values().drop_duplicates()"
   ]
  },
  {
   "cell_type": "code",
   "execution_count": null,
   "id": "02c4f589-5969-432d-86fa-fea26c9e1166",
   "metadata": {},
   "outputs": [],
   "source": [
    "orders['Order Date'].sort_values().drop_duplicates()"
   ]
  },
  {
   "cell_type": "code",
   "execution_count": null,
   "id": "9a3d8176-0094-49c7-865d-c2c49f60eea4",
   "metadata": {},
   "outputs": [],
   "source": [
    "orders['Order Date'] = pd.to_datetime(orders[\"Order Date\"], format=\"%m/%d/%Y\")"
   ]
  },
  {
   "cell_type": "code",
   "execution_count": null,
   "id": "a50e8684-82bb-4711-85c2-0d55d5f9c52e",
   "metadata": {},
   "outputs": [],
   "source": [
    "orders['Ship Date'].sort_values().drop_duplicates()"
   ]
  },
  {
   "cell_type": "code",
   "execution_count": null,
   "id": "44cd0360-3221-4304-8300-547c38330b07",
   "metadata": {},
   "outputs": [],
   "source": [
    "orders['Ship Date'] = pd.to_datetime(orders[\"Ship Date\"], format=\"%m/%d/%Y\")"
   ]
  },
  {
   "cell_type": "code",
   "execution_count": null,
   "id": "f6e27b8f-24ed-48ad-ae89-35b0a3c1057b",
   "metadata": {},
   "outputs": [],
   "source": [
    "orders['Ship Mode'].sort_values().drop_duplicates()"
   ]
  },
  {
   "cell_type": "code",
   "execution_count": null,
   "id": "de70cca5-f963-48c0-b2af-30882f5763c5",
   "metadata": {},
   "outputs": [],
   "source": [
    "orders['State/Province'].sort_values().drop_duplicates()"
   ]
  },
  {
   "cell_type": "code",
   "execution_count": null,
   "id": "00304b74-e468-4682-a378-46600e062d14",
   "metadata": {},
   "outputs": [],
   "source": [
    "orders['Postal Code'].unique()"
   ]
  },
  {
   "cell_type": "code",
   "execution_count": null,
   "id": "e91e49f3-36d4-4553-adf8-177c2c9d63fb",
   "metadata": {},
   "outputs": [],
   "source": [
    "orders['Region'].sort_values().drop_duplicates()"
   ]
  },
  {
   "cell_type": "code",
   "execution_count": null,
   "id": "f22dec34-e3bc-446b-b937-f3bc3f70f9c3",
   "metadata": {},
   "outputs": [],
   "source": [
    "orders['Product ID'].sort_values().drop_duplicates()"
   ]
  },
  {
   "cell_type": "code",
   "execution_count": null,
   "id": "4f3965a8-dd6c-473f-b1b3-201e2d91a2ca",
   "metadata": {},
   "outputs": [],
   "source": [
    "orders['Category'].sort_values().drop_duplicates()"
   ]
  },
  {
   "cell_type": "code",
   "execution_count": null,
   "id": "2fa338e4-ffa3-4106-969d-1c7f78bee0ca",
   "metadata": {},
   "outputs": [],
   "source": [
    "def left(x):\n",
    "    return x.str[0:3]\n",
    "\n",
    "orders[['Product ID', 'Category']].apply(left)"
   ]
  },
  {
   "cell_type": "code",
   "execution_count": null,
   "id": "2fa2a2ab-8aa0-4542-846e-e25a10132d03",
   "metadata": {},
   "outputs": [],
   "source": [
    "orders['Sub-Category'].sort_values().drop_duplicates()"
   ]
  },
  {
   "cell_type": "code",
   "execution_count": null,
   "id": "0b325244-7128-4951-a74b-0ad63e24c174",
   "metadata": {},
   "outputs": [],
   "source": [
    "orders['Product Name'].sort_values().drop_duplicates()"
   ]
  },
  {
   "cell_type": "code",
   "execution_count": null,
   "id": "05db8e78-18bc-462c-879d-9559818f7b41",
   "metadata": {},
   "outputs": [],
   "source": [
    "orders['Sales'].sort_values().drop_duplicates()"
   ]
  },
  {
   "cell_type": "code",
   "execution_count": null,
   "id": "8479abcb-785f-4ac4-9332-bc245c4ddf30",
   "metadata": {},
   "outputs": [],
   "source": [
    "orders['Quantity'].sort_values().drop_duplicates()"
   ]
  },
  {
   "cell_type": "code",
   "execution_count": null,
   "id": "771d794f-d556-44ea-9924-2e039e27e302",
   "metadata": {},
   "outputs": [],
   "source": [
    "orders['Discount'].sort_values().drop_duplicates()"
   ]
  },
  {
   "cell_type": "markdown",
   "id": "9553f99e-7800-4a8f-b647-3b1819c92bbb",
   "metadata": {},
   "source": [
    "### 3. Imputation of blank or null values."
   ]
  },
  {
   "cell_type": "code",
   "execution_count": null,
   "id": "89468bb8-2e7f-428c-917a-a6debc72d6d5",
   "metadata": {},
   "outputs": [],
   "source": [
    "orders.isna().sum()"
   ]
  },
  {
   "cell_type": "code",
   "execution_count": null,
   "id": "090f1edd-b3f4-42a9-99ee-38dc8ccce2c3",
   "metadata": {},
   "outputs": [],
   "source": [
    "#No blank or null values."
   ]
  },
  {
   "cell_type": "markdown",
   "id": "14284b47-bf48-4b22-b8a2-a39a616a8ed8",
   "metadata": {},
   "source": [
    "### 4. Removal of duplicated and unusable columns."
   ]
  },
  {
   "cell_type": "code",
   "execution_count": null,
   "id": "d2c3e78b-a556-478d-86bf-4e6e4d277fa3",
   "metadata": {},
   "outputs": [],
   "source": [
    "orders = orders.drop('Row ID', axis=1)"
   ]
  },
  {
   "cell_type": "markdown",
   "id": "fdba7995-4713-44c5-99a4-53adc961d312",
   "metadata": {},
   "source": [
    "### 5. Filtering dataframe"
   ]
  },
  {
   "cell_type": "code",
   "execution_count": null,
   "id": "be6a2e0f-df48-4ddc-b6b6-a52b7052f869",
   "metadata": {},
   "outputs": [],
   "source": [
    "orders = orders[orders['Country/Region'] == 'United States']"
   ]
  },
  {
   "cell_type": "code",
   "execution_count": null,
   "id": "ef605885-6c87-4e3d-abdc-b6cbbc3285dd",
   "metadata": {},
   "outputs": [],
   "source": [
    "orders"
   ]
  },
  {
   "cell_type": "markdown",
   "id": "adc2916f-77d9-4b81-9f77-eefc793a2657",
   "metadata": {},
   "source": [
    "## Superstore Sales Data Analysis."
   ]
  },
  {
   "cell_type": "markdown",
   "id": "f07cc7d3-b9de-43c0-be81-7a9e0a7bf25b",
   "metadata": {},
   "source": [
    "#### 1. Total Sales by Order Year."
   ]
  },
  {
   "cell_type": "code",
   "execution_count": null,
   "id": "bfc46257-09f9-4831-a97c-ee046c135571",
   "metadata": {},
   "outputs": [],
   "source": [
    "orders[\"Order Year\"] = orders[\"Order Date\"].dt.year\n",
    "orders.groupby(\"Order Year\")[\"Sales\"].sum().round(0)"
   ]
  },
  {
   "cell_type": "markdown",
   "id": "132bf583-53c9-4966-8814-df7982bf62c3",
   "metadata": {},
   "source": [
    "#### 2. Total Quantity by Order Year."
   ]
  },
  {
   "cell_type": "code",
   "execution_count": null,
   "id": "72ed1cb1-f118-4eff-a096-50a414fee35f",
   "metadata": {},
   "outputs": [],
   "source": [
    "orders[\"Order Year\"] = orders[\"Order Date\"].dt.year\n",
    "orders.groupby(\"Order Year\")[\"Quantity\"].sum()"
   ]
  },
  {
   "cell_type": "markdown",
   "id": "c0380e18-ef32-4d90-abcf-bd225670dfda",
   "metadata": {},
   "source": [
    "#### 3. Total Profit by Order Year."
   ]
  },
  {
   "cell_type": "code",
   "execution_count": null,
   "id": "f779e90d-08c7-4c69-b3ac-c70f2c93ba05",
   "metadata": {},
   "outputs": [],
   "source": [
    "orders[\"Order Year\"] = orders[\"Order Date\"].dt.year\n",
    "orders.groupby(\"Order Year\")[\"Sales\"].sum().round(0)"
   ]
  },
  {
   "cell_type": "markdown",
   "id": "1eef4d45-5f28-4d83-b6eb-6885e877133d",
   "metadata": {},
   "source": [
    "#### 4. Total Orders by Order Year."
   ]
  },
  {
   "cell_type": "code",
   "execution_count": null,
   "id": "d94b72dd-7021-4374-92e8-9cc454aae7fb",
   "metadata": {},
   "outputs": [],
   "source": [
    "orders[\"Order Year\"] = orders[\"Order Date\"].dt.year\n",
    "orders.groupby(\"Order Year\")[\"Order ID\"].nunique()"
   ]
  },
  {
   "cell_type": "markdown",
   "id": "ff0c5a6d-0745-4e57-8842-f491bfe1616a",
   "metadata": {},
   "source": [
    "#### 5. Total Customers by Order Year."
   ]
  },
  {
   "cell_type": "code",
   "execution_count": null,
   "id": "42d9b655-7241-4890-98ea-8957fe0dadba",
   "metadata": {},
   "outputs": [],
   "source": [
    "orders[\"Order Year\"] = orders[\"Order Date\"].dt.year\n",
    "orders.groupby(\"Order Year\")[\"Customer ID\"].nunique()"
   ]
  },
  {
   "cell_type": "markdown",
   "id": "4e7d7470-878c-46b1-bc58-6c66c8774923",
   "metadata": {},
   "source": [
    "#### 6. Total Sales by Order Month & Year."
   ]
  },
  {
   "cell_type": "code",
   "execution_count": null,
   "id": "2e47172d-424c-4b80-9d78-cb7178d2dc85",
   "metadata": {},
   "outputs": [],
   "source": [
    "orders[\"Order Month\"] = orders[\"Order Date\"].dt.month_name()\n",
    "orders.groupby([\"Order Year\", \"Order Month\"])[\"Sales\"].sum().round(0)"
   ]
  },
  {
   "cell_type": "markdown",
   "id": "764823fd-6ccc-4595-8390-4e49e02027cb",
   "metadata": {},
   "source": [
    "#### 7. Total Quantity by Order Month & Year."
   ]
  },
  {
   "cell_type": "code",
   "execution_count": null,
   "id": "0ee9b3f1-7414-44d7-83d6-29908ba0f37a",
   "metadata": {},
   "outputs": [],
   "source": [
    "orders[\"Order Month\"] = orders[\"Order Date\"].dt.month_name()\n",
    "orders.groupby([\"Order Year\", \"Order Month\"])[\"Quantity\"].sum()"
   ]
  },
  {
   "cell_type": "markdown",
   "id": "d50177ff-7dce-4f11-800b-a6710979a1f7",
   "metadata": {},
   "source": [
    "#### 8. Total Profit by Order Month & Year."
   ]
  },
  {
   "cell_type": "code",
   "execution_count": null,
   "id": "8737fcce-d341-49d3-ba85-a74c22ff77f1",
   "metadata": {},
   "outputs": [],
   "source": [
    "orders[\"Order Month\"] = orders[\"Order Date\"].dt.month_name()\n",
    "orders.groupby([\"Order Year\", \"Order Month\"])[\"Profit\"].sum().round(0)"
   ]
  },
  {
   "cell_type": "markdown",
   "id": "c99e4926-4f5c-453f-88ca-b0b33db394bf",
   "metadata": {},
   "source": [
    "#### 9. Total Orders by Order Month & Year."
   ]
  },
  {
   "cell_type": "code",
   "execution_count": null,
   "id": "9bdc2ff0-084e-4193-ad06-a0e8cfb71f8e",
   "metadata": {},
   "outputs": [],
   "source": [
    "orders[\"Order Month\"] = orders[\"Order Date\"].dt.month_name()\n",
    "orders.groupby([\"Order Year\", \"Order Month\"])[\"Order ID\"].nunique()"
   ]
  },
  {
   "cell_type": "markdown",
   "id": "fafd0345-a117-433b-b5fa-53ef6d109941",
   "metadata": {},
   "source": [
    "#### 10. Total Customers by Order Month & Year."
   ]
  },
  {
   "cell_type": "code",
   "execution_count": null,
   "id": "8fd492ba-25ec-4857-86d5-1b69482aedf0",
   "metadata": {},
   "outputs": [],
   "source": [
    "orders[\"Order Month\"] = orders[\"Order Date\"].dt.month_name()\n",
    "orders.groupby([\"Order Year\", \"Order Month\"])[\"Customer ID\"].nunique()"
   ]
  },
  {
   "cell_type": "code",
   "execution_count": null,
   "id": "71106712-fa80-481c-a86b-137278134431",
   "metadata": {},
   "outputs": [],
   "source": []
  }
 ],
 "metadata": {
  "kernelspec": {
   "display_name": "Python 3 (ipykernel)",
   "language": "python",
   "name": "python3"
  },
  "language_info": {
   "codemirror_mode": {
    "name": "ipython",
    "version": 3
   },
   "file_extension": ".py",
   "mimetype": "text/x-python",
   "name": "python",
   "nbconvert_exporter": "python",
   "pygments_lexer": "ipython3",
   "version": "3.12.4"
  }
 },
 "nbformat": 4,
 "nbformat_minor": 5
}

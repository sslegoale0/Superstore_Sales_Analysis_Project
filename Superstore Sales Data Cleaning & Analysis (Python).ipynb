{
 "cells": [
  {
   "cell_type": "code",
   "execution_count": null,
   "id": "f5b6d685-656f-46fd-a4a1-82db4aade28d",
   "metadata": {},
   "outputs": [],
   "source": [
    "import numpy as np\n",
    "import pandas as pd\n",
    "import matplotlib.pyplot as plt\n",
    "import seaborn as sns"
   ]
  },
  {
   "cell_type": "code",
   "execution_count": null,
   "id": "ccef4771-30f6-497e-ab79-b34ed2a8e66f",
   "metadata": {},
   "outputs": [],
   "source": [
    "orders = pd.read_excel(\"Superstore Sales Orders Data.xlsx\")\n",
    "people = pd.read_excel(\"Superstore Sales People Data.xlsx\")\n",
    "returns = pd.read_excel(\"Superstore Sales Returns Data.xlsx\")"
   ]
  },
  {
   "cell_type": "code",
   "execution_count": null,
   "id": "45733247-6b31-4cc3-a7f7-b0e8e3b1c358",
   "metadata": {},
   "outputs": [],
   "source": [
    "orders.head()"
   ]
  },
  {
   "cell_type": "code",
   "execution_count": null,
   "id": "fac83705-8c62-4a4b-ab75-4a20c084a2d7",
   "metadata": {},
   "outputs": [],
   "source": [
    "orders.info"
   ]
  }
 ],
 "metadata": {
  "kernelspec": {
   "display_name": "Python 3 (ipykernel)",
   "language": "python",
   "name": "python3"
  },
  "language_info": {
   "codemirror_mode": {
    "name": "ipython",
    "version": 3
   },
   "file_extension": ".py",
   "mimetype": "text/x-python",
   "name": "python",
   "nbconvert_exporter": "python",
   "pygments_lexer": "ipython3",
   "version": "3.12.4"
  }
 },
 "nbformat": 4,
 "nbformat_minor": 5
}
